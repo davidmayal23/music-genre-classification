{
 "cells": [
  {
   "cell_type": "code",
   "execution_count": 30,
   "metadata": {},
   "outputs": [],
   "source": [
    "# Import required libraries\n",
    "\n",
    "# Data manipulation and analysis\n",
    "import numpy as np\n",
    "import pandas as pd\n",
    "\n",
    "# Data visualization\n",
    "import matplotlib.pyplot as plt\n",
    "import seaborn as sns\n",
    "\n",
    "# Audio processing\n",
    "import librosa\n",
    "\n",
    "# Feature scaling\n",
    "import sklearn.preprocessing\n",
    "\n",
    "# File system operations\n",
    "import os"
   ]
  },
  {
   "cell_type": "markdown",
   "metadata": {},
   "source": [
    "### **Reading files**"
   ]
  },
  {
   "cell_type": "markdown",
   "metadata": {},
   "source": [
    "The first thing to do is to get a list with the path to each of the audio files in our `data/raw/genres_original/` folder."
   ]
  },
  {
   "cell_type": "code",
   "execution_count": 31,
   "metadata": {},
   "outputs": [
    {
     "name": "stdout",
     "output_type": "stream",
     "text": [
      "['blues', 'reggae', 'disco', 'rock', 'jazz', 'pop', 'hiphop', 'metal', 'country', 'classical']\n"
     ]
    }
   ],
   "source": [
    "base_path = os.path.join('../data/raw/genres_original/')\n",
    "\n",
    "# Get the list of all files and directories \n",
    "dir_list = os.listdir(base_path)\n",
    "print(dir_list) "
   ]
  },
  {
   "cell_type": "markdown",
   "metadata": {},
   "source": [
    "Now that we have all the folders of the different genres, we can define a function to get the path to each of their files."
   ]
  },
  {
   "cell_type": "code",
   "execution_count": 32,
   "metadata": {},
   "outputs": [],
   "source": [
    "# get_files() will be an iterator object\n",
    "def get_files(path):\n",
    "    for file in os.listdir(path):\n",
    "        if os.path.isfile(os.path.join(path, file)):\n",
    "            yield file"
   ]
  },
  {
   "cell_type": "code",
   "execution_count": 33,
   "metadata": {},
   "outputs": [
    {
     "name": "stdout",
     "output_type": "stream",
     "text": [
      "../data/raw/genres_original/blues/blues.00017.wav\n"
     ]
    }
   ],
   "source": [
    "# Get the full path of a first file to exploit\n",
    "dir_0 = os.path.join(base_path, dir_list[0])\n",
    "file_0 = os.path.join(dir_0, next(get_files(os.path.join(dir_0))))\n",
    "print(file_0)"
   ]
  },
  {
   "cell_type": "markdown",
   "metadata": {},
   "source": [
    "### **Feature Extraction**"
   ]
  },
  {
   "cell_type": "markdown",
   "metadata": {},
   "source": [
    "Now that we can access each of the audio files we can proceed with the extraction of the previously studied characteristics."
   ]
  },
  {
   "cell_type": "code",
   "execution_count": 34,
   "metadata": {},
   "outputs": [
    {
     "name": "stdout",
     "output_type": "stream",
     "text": [
      "x: (480214,)\n",
      "sampling rate: 16000\n"
     ]
    }
   ],
   "source": [
    "# Load the audio file\n",
    "array, sampling_rate = librosa.load(file_0, sr=16000)\n",
    "print(f'x: {array.shape}', f'sampling rate: {sampling_rate}', sep='\\n')"
   ]
  }
 ],
 "metadata": {
  "kernelspec": {
   "display_name": "music_env",
   "language": "python",
   "name": "python3"
  },
  "language_info": {
   "codemirror_mode": {
    "name": "ipython",
    "version": 3
   },
   "file_extension": ".py",
   "mimetype": "text/x-python",
   "name": "python",
   "nbconvert_exporter": "python",
   "pygments_lexer": "ipython3",
   "version": "3.12.2"
  }
 },
 "nbformat": 4,
 "nbformat_minor": 2
}
